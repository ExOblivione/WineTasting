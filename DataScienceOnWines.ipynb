{
 "cells": [
  {
   "cell_type": "code",
   "execution_count": null,
   "metadata": {},
   "outputs": [],
   "source": [
    "import pandas as pd\n",
    "import numpy as np\n",
    "\n",
    "redWine = pd.read_csv(\"winequality-red.csv\", delimiter=(';'))\n",
    "whiteWine = pd.read_csv(\"winequality-white.csv\", delimiter=(';'))"
   ]
  },
  {
   "cell_type": "code",
   "execution_count": null,
   "metadata": {
    "collapsed": false,
    "inputHidden": false,
    "outputHidden": false
   },
   "outputs": [],
   "source": [
    "redWine['alcohol'] = np.where(redWine['alcohol'].str.count('\\.').gt(1), 10.5, redWine['alcohol'])\n",
    "whiteWine['alcohol'] = np.where(whiteWine['alcohol'].str.count('\\.').gt(1), 10.38, whiteWine['alcohol'])"
   ]
  },
  {
   "cell_type": "code",
   "execution_count": null,
   "metadata": {
    "collapsed": false,
    "inputHidden": false,
    "outputHidden": false
   },
   "outputs": [],
   "source": [
    "redWine.alcohol = redWine.alcohol.astype(dtype=np.float64)\n",
    "whiteWine.alcohol = whiteWine.alcohol.astype(dtype=np.float64)"
   ]
  },
  {
   "cell_type": "code",
   "execution_count": null,
   "metadata": {
    "collapsed": false,
    "inputHidden": false,
    "outputHidden": false
   },
   "outputs": [],
   "source": [
    "redWine[\"type\"] = 1\n",
    "whiteWine[\"type\"] = 0\n",
    "wineDF = redWine.append(whiteWine, ignore_index=True)"
   ]
  },
  {
   "cell_type": "code",
   "execution_count": null,
   "metadata": {
    "collapsed": false,
    "inputHidden": false,
    "outputHidden": false
   },
   "outputs": [],
   "source": [
    "wineDF.columns = wineDF.columns.str.replace(' ', '_')"
   ]
  },
  {
   "cell_type": "code",
   "execution_count": null,
   "metadata": {
    "collapsed": false,
    "inputHidden": false,
    "outputHidden": false
   },
   "outputs": [],
   "source": [
    "import matplotlib\n",
    "import matplotlib.pyplot as plt\n",
    "from matplotlib.pyplot import imshow\n",
    "\n",
    "import seaborn as sns\n",
    "\n",
    "wineDF[\"quality\"] = wineDF[\"quality\"].astype(object)\n",
    "i = sns.pairplot(wineDF, vars=[\"density\",\"pH\",\"sulphates\",\"alcohol\"], hue=\"quality\")\n",
    "plt.show(i)"
   ]
  },
  {
   "cell_type": "code",
   "execution_count": null,
   "metadata": {
    "collapsed": false,
    "inputHidden": false,
    "outputHidden": false
   },
   "outputs": [],
   "source": [
    "wineDF.to_csv(\"wines.csv\",index=False,sep=',')"
   ]
  }
 ],
 "metadata": {
  "kernelspec": {
   "display_name": "Python 3.6 - AzureML",
   "language": "python",
   "name": "python3-azureml"
  },
  "language_info": {
   "codemirror_mode": {
    "name": "ipython",
    "version": 3
   },
   "file_extension": ".py",
   "mimetype": "text/x-python",
   "name": "python",
   "nbconvert_exporter": "python",
   "pygments_lexer": "ipython3",
   "version": "3.6.9"
  },
  "nteract": {
   "version": "nteract-front-end@1.0.0"
  }
 },
 "nbformat": 4,
 "nbformat_minor": 2
}
